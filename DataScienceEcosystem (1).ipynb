{
 "cells": [
  {
   "cell_type": "markdown",
   "id": "a6fd5fc6-a27e-4541-85e5-677e0ec197d3",
   "metadata": {},
   "source": [
    "# Data Science Tools and Ecosystem "
   ]
  },
  {
   "cell_type": "markdown",
   "id": "53746c09-937d-4cbd-8f27-c29ef46216e9",
   "metadata": {},
   "source": [
    "In this notebook\n",
    "Data Science Tools and Ecosystem are summerized. "
   ]
  },
  {
   "cell_type": "markdown",
   "id": "45257098-9cbe-43b3-bd29-9d4f7acc14d0",
   "metadata": {},
   "source": [
    "**Objectives:**\n",
    "* List popular languages in data science\n",
    "* List commonly used libraries in data science\n",
    "* Some of data science tools\n",
    "* Few examples of evaluating arithmetic expressions in Python"
   ]
  },
  {
   "cell_type": "markdown",
   "id": "e03a7025-5cec-4518-aef0-7c63eb861970",
   "metadata": {},
   "source": [
    "Some of the popular languages that data scientist use are:\n",
    "1. Python\n",
    "2. R\n",
    "3. SQL\n",
    "4. Java\n",
    "5. C++"
   ]
  },
  {
   "cell_type": "markdown",
   "id": "2bf8f719-346b-459a-9ee5-93525fa17e7b",
   "metadata": {},
   "source": [
    "Some of the commonly used libraries in data science include:\n",
    "1. Panda\n",
    "2. NumPy\n",
    "3. Scikit-learn\n",
    "4. Tensor flow "
   ]
  },
  {
   "cell_type": "markdown",
   "id": "1522d29b-0eff-469e-83d6-375ecfd16897",
   "metadata": {},
   "source": [
    "|Data Science Tools|\n",
    "| ------------ |\n",
    "|Jupyter Notebook|\n",
    "|RSudio|\n",
    "|Visual Studio Code|"
   ]
  },
  {
   "cell_type": "markdown",
   "id": "27efd4d0-9ae8-4435-a306-a9572d493d49",
   "metadata": {},
   "source": [
    "### Below are a few examples of evaluating arithmetic expressions in Python"
   ]
  },
  {
   "cell_type": "code",
   "execution_count": 5,
   "id": "1237535e-1047-482d-9bf2-cf07c4d5d0a8",
   "metadata": {},
   "outputs": [
    {
     "name": "stdout",
     "output_type": "stream",
     "text": [
      "17\n"
     ]
    }
   ],
   "source": [
    "# This a simple arithmetic expression to mutiply then add integers\n",
    "n=3*4\n",
    "m=5\n",
    "z=n+m\n",
    "print (z)\n"
   ]
  },
  {
   "cell_type": "code",
   "execution_count": 13,
   "id": "254c60f8-a799-4f70-96e3-6a0cb4f7727c",
   "metadata": {},
   "outputs": [
    {
     "name": "stdout",
     "output_type": "stream",
     "text": [
      "3.3333333333333335 hours\n"
     ]
    }
   ],
   "source": [
    "#This will convert 200 minutes to hours by diving by 60\n",
    "minute= 200\n",
    "hour= minute/60\n",
    "print(hour, 'hours')"
   ]
  },
  {
   "cell_type": "markdown",
   "id": "24d1759a-0919-4d99-9259-47a3a65e031e",
   "metadata": {},
   "source": [
    "## Author\n",
    "Safa Boukhechem"
   ]
  }
 ],
 "metadata": {
  "kernelspec": {
   "display_name": "Python 3 (ipykernel)",
   "language": "python",
   "name": "python3"
  },
  "language_info": {
   "codemirror_mode": {
    "name": "ipython",
    "version": 3
   },
   "file_extension": ".py",
   "mimetype": "text/x-python",
   "name": "python",
   "nbconvert_exporter": "python",
   "pygments_lexer": "ipython3",
   "version": "3.11.9"
  }
 },
 "nbformat": 4,
 "nbformat_minor": 5
}
